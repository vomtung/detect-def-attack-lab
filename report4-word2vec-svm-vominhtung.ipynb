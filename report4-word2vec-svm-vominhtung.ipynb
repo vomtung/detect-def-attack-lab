{
 "cells": [
  {
   "cell_type": "markdown",
   "id": "e9a8f3bf",
   "metadata": {},
   "source": [
    "# Website Defacement Detection"
   ]
  },
  {
   "cell_type": "markdown",
   "id": "c26de339",
   "metadata": {},
   "source": [
    "* Prepare by **vomtung@gmail.com**"
   ]
  },
  {
   "cell_type": "code",
   "execution_count": 1,
   "id": "b61dafc8",
   "metadata": {},
   "outputs": [
    {
     "name": "stdout",
     "output_type": "stream",
     "text": [
      "Requirement already satisfied: pandas in e:\\software\\python\\lib\\site-packages (2.2.3)Note: you may need to restart the kernel to use updated packages.\n",
      "\n",
      "Requirement already satisfied: numpy in e:\\software\\python\\lib\\site-packages (1.26.4)\n",
      "Requirement already satisfied: scikit-learn in e:\\software\\python\\lib\\site-packages (1.5.2)\n",
      "Requirement already satisfied: matplotlib in e:\\software\\python\\lib\\site-packages (3.9.2)\n",
      "Requirement already satisfied: seaborn in e:\\software\\python\\lib\\site-packages (0.13.2)\n",
      "Requirement already satisfied: gensim in e:\\software\\python\\lib\\site-packages (4.3.3)\n",
      "Requirement already satisfied: python-dateutil>=2.8.2 in c:\\users\\vomtu\\appdata\\roaming\\python\\python312\\site-packages (from pandas) (2.9.0.post0)\n",
      "Requirement already satisfied: pytz>=2020.1 in e:\\software\\python\\lib\\site-packages (from pandas) (2024.2)\n",
      "Requirement already satisfied: tzdata>=2022.7 in e:\\software\\python\\lib\\site-packages (from pandas) (2024.2)\n",
      "Requirement already satisfied: scipy>=1.6.0 in e:\\software\\python\\lib\\site-packages (from scikit-learn) (1.13.1)\n",
      "Requirement already satisfied: joblib>=1.2.0 in e:\\software\\python\\lib\\site-packages (from scikit-learn) (1.4.2)\n",
      "Requirement already satisfied: threadpoolctl>=3.1.0 in e:\\software\\python\\lib\\site-packages (from scikit-learn) (3.5.0)\n",
      "Requirement already satisfied: contourpy>=1.0.1 in e:\\software\\python\\lib\\site-packages (from matplotlib) (1.3.0)\n",
      "Requirement already satisfied: cycler>=0.10 in e:\\software\\python\\lib\\site-packages (from matplotlib) (0.12.1)\n",
      "Requirement already satisfied: fonttools>=4.22.0 in e:\\software\\python\\lib\\site-packages (from matplotlib) (4.54.1)\n",
      "Requirement already satisfied: kiwisolver>=1.3.1 in e:\\software\\python\\lib\\site-packages (from matplotlib) (1.4.7)\n",
      "Requirement already satisfied: packaging>=20.0 in c:\\users\\vomtu\\appdata\\roaming\\python\\python312\\site-packages (from matplotlib) (24.1)\n",
      "Requirement already satisfied: pillow>=8 in e:\\software\\python\\lib\\site-packages (from matplotlib) (10.4.0)\n",
      "Requirement already satisfied: pyparsing>=2.3.1 in e:\\software\\python\\lib\\site-packages (from matplotlib) (3.1.4)\n",
      "Requirement already satisfied: smart-open>=1.8.1 in e:\\software\\python\\lib\\site-packages (from gensim) (7.0.5)\n",
      "Requirement already satisfied: six>=1.5 in c:\\users\\vomtu\\appdata\\roaming\\python\\python312\\site-packages (from python-dateutil>=2.8.2->pandas) (1.16.0)\n",
      "Requirement already satisfied: wrapt in e:\\software\\python\\lib\\site-packages (from smart-open>=1.8.1->gensim) (1.16.0)\n"
     ]
    },
    {
     "name": "stderr",
     "output_type": "stream",
     "text": [
      "\n",
      "[notice] A new release of pip is available: 24.2 -> 25.2\n",
      "[notice] To update, run: python.exe -m pip install --upgrade pip\n"
     ]
    }
   ],
   "source": [
    "# Install required packages including gensim for Word2Vec\n",
    "%pip install pandas numpy scikit-learn matplotlib seaborn gensim"
   ]
  },
  {
   "cell_type": "markdown",
   "id": "2953d78d",
   "metadata": {},
   "source": [
    "## Install Required Packages\n",
    "\n",
    "First, we need to install the necessary Python packages for our machine learning pipeline."
   ]
  },
  {
   "cell_type": "code",
   "execution_count": 2,
   "id": "e08e91e7",
   "metadata": {},
   "outputs": [],
   "source": [
    "import pandas as pd\n",
    "import numpy as np\n",
    "from gensim.models import Word2Vec\n",
    "from sklearn.svm import SVC\n",
    "from sklearn.model_selection import train_test_split\n",
    "from sklearn.metrics import accuracy_score, classification_report, confusion_matrix\n",
    "import matplotlib.pyplot as plt\n",
    "import seaborn as sns"
   ]
  },
  {
   "cell_type": "markdown",
   "id": "82bbd9a4",
   "metadata": {},
   "source": [
    "## Import Required Libraries\n",
    "\n",
    "We need several libraries for this document classification task:\n",
    "- **pandas**: Data manipulation and analysis\n",
    "- **numpy**: Numerical computing\n",
    "- **sklearn**: Machine learning tools (TF-IDF, Logistic Regression, metrics)\n",
    "- **matplotlib & seaborn**: Data visualization"
   ]
  },
  {
   "cell_type": "code",
   "execution_count": 3,
   "id": "44028165",
   "metadata": {},
   "outputs": [
    {
     "name": "stdout",
     "output_type": "stream",
     "text": [
      "Training data shape: (1230, 2)\n",
      "Test data shape: (307, 2)\n",
      "\n",
      "Training data columns: ['HTML', 'Label']\n",
      "\n",
      "Label distribution in training data:\n",
      "Label\n",
      "1    645\n",
      "0    585\n",
      "Name: count, dtype: int64\n",
      "\n",
      "Sample data:\n",
      "                                                HTML  Label\n",
      "0  Vimeo Interactive Video Experience Platform   ...      0\n",
      "1  \\nHacked By Shield Iran ! \\nHacked By \\nShield...      1\n",
      "2  HACKED BY INDIAN CYBER FORCE \\nYOU GOT HACKED ...      1\n",
      "3  Space.com: NASA, Space Exploration and Astrono...      0\n",
      "4  Home \\r\\nYou may be trying to access this site...      0\n"
     ]
    }
   ],
   "source": [
    "train_df = pd.read_csv('dataset/train_data.csv')\n",
    "test_df = pd.read_csv('dataset/test_data.csv')\n",
    "\n",
    "print(f\"Training data shape: {train_df.shape}\")\n",
    "print(f\"Test data shape: {test_df.shape}\")\n",
    "print(f\"\\nTraining data columns: {train_df.columns.tolist()}\")\n",
    "print(f\"\\nLabel distribution in training data:\")\n",
    "print(train_df['Label'].value_counts())\n",
    "print(f\"\\nSample data:\")\n",
    "print(train_df.head())"
   ]
  },
  {
   "cell_type": "markdown",
   "id": "4d5c458b",
   "metadata": {},
   "source": [
    "## Load and Explore Dataset\n",
    "\n",
    "The dataset contains website HTML content with labels:\n",
    "- **Label 0**: Normal website\n",
    "- **Label 1**: Hacked/Defaced website\n",
    "\n",
    "We have separate training and test datasets to evaluate model performance properly."
   ]
  },
  {
   "cell_type": "markdown",
   "id": "ec8e45b9",
   "metadata": {},
   "source": [
    "## Word2Vec Embedding\n",
    "\n",
    "**Word2Vec** learns vector representations for words from the HTML content.\n",
    "\n",
    "### Steps:\n",
    "- Tokenize HTML text into words\n",
    "- Train Word2Vec model on all training documents\n",
    "- Represent each document by averaging its word vectors\n",
    "\n",
    "This produces a fixed-size vector for each document, suitable for SVM classification."
   ]
  },
  {
   "cell_type": "code",
   "execution_count": 4,
   "id": "b7425f31",
   "metadata": {},
   "outputs": [
    {
     "name": "stdout",
     "output_type": "stream",
     "text": [
      "Word2Vec train shape: (1230, 100)\n",
      "Word2Vec test shape: (307, 100)\n"
     ]
    }
   ],
   "source": [
    "from gensim.utils import simple_preprocess\n",
    "\n",
    "# Tokenize HTML content\n",
    "X_train_raw = train_df['HTML'].fillna('')\n",
    "X_test_raw = test_df['HTML'].fillna('')\n",
    "\n",
    "X_train_tokens = [simple_preprocess(doc) for doc in X_train_raw]\n",
    "X_test_tokens = [simple_preprocess(doc) for doc in X_test_raw]\n",
    "\n",
    "# Train Word2Vec model\n",
    "w2v_model = Word2Vec(sentences=X_train_tokens, vector_size=100, window=5, min_count=2, workers=4, seed=42)\n",
    "\n",
    "def document_vector(tokens, model):\n",
    "    # Average word vectors for tokens present in the model's vocabulary\n",
    "    vectors = [model.wv[word] for word in tokens if word in model.wv]\n",
    "    if vectors:\n",
    "        return np.mean(vectors, axis=0)\n",
    "    else:\n",
    "        return np.zeros(model.vector_size)\n",
    "\n",
    "X_train_vec = np.array([document_vector(tokens, w2v_model) for tokens in X_train_tokens])\n",
    "X_test_vec = np.array([document_vector(tokens, w2v_model) for tokens in X_test_tokens])\n",
    "\n",
    "y_train = train_df['Label']\n",
    "y_test = test_df['Label']\n",
    "\n",
    "print(f\"Word2Vec train shape: {X_train_vec.shape}\")\n",
    "print(f\"Word2Vec test shape: {X_test_vec.shape}\")"
   ]
  },
  {
   "cell_type": "markdown",
   "id": "b2466371",
   "metadata": {},
   "source": [
    "## SVM Model Training\n",
    "\n",
    "**Support Vector Machine (SVM)** is a powerful classifier for binary tasks.\n",
    "\n",
    "### Parameters:\n",
    "- **kernel='linear'**: Linear decision boundary\n",
    "- **C=1.0**: Regularization strength\n",
    "- **probability=True**: Enable probability estimates\n",
    "\n",
    "The model learns to distinguish between normal and hacked websites using Word2Vec features."
   ]
  },
  {
   "cell_type": "code",
   "execution_count": 5,
   "id": "2a897016",
   "metadata": {},
   "outputs": [
    {
     "name": "stdout",
     "output_type": "stream",
     "text": [
      "Training SVM model...\n",
      "Training Accuracy: 0.9959\n",
      "Test Accuracy: 0.9805\n",
      "Model trained successfully!\n"
     ]
    }
   ],
   "source": [
    "print(\"Training SVM model...\")\n",
    "\n",
    "svm_model = SVC(kernel='linear', C=1.0, probability=True, random_state=42)\n",
    "svm_model.fit(X_train_vec, y_train)\n",
    "\n",
    "y_train_pred = svm_model.predict(X_train_vec)\n",
    "y_test_pred = svm_model.predict(X_test_vec)\n",
    "\n",
    "train_accuracy = accuracy_score(y_train, y_train_pred)\n",
    "test_accuracy = accuracy_score(y_test, y_test_pred)\n",
    "\n",
    "print(f\"Training Accuracy: {train_accuracy:.4f}\")\n",
    "print(f\"Test Accuracy: {test_accuracy:.4f}\")\n",
    "\n",
    "y_test_proba = svm_model.predict_proba(X_test_vec)[:, 1]\n",
    "print(f\"Model trained successfully!\")"
   ]
  },
  {
   "cell_type": "markdown",
   "id": "09e9c31e",
   "metadata": {},
   "source": [
    "## Model Evaluation and Analysis\n",
    "\n",
    "### Performance Metrics:\n",
    "- **Classification Report**: Precision, Recall, F1-score for each class\n",
    "- **Confusion Matrix**: Visual representation of correct vs incorrect predictions\n",
    "- **Feature Importance**: Top words/phrases that indicate hacked vs normal websites\n",
    "\n",
    "### Understanding Results:\n",
    "- **Precision**: Of all websites predicted as hacked, how many are actually hacked?\n",
    "- **Recall**: Of all actually hacked websites, how many did we detect?\n",
    "- **F1-score**: Harmonic mean of precision and recall"
   ]
  },
  {
   "cell_type": "code",
   "execution_count": 6,
   "id": "bbfdc084",
   "metadata": {},
   "outputs": [
    {
     "data": {
      "image/png": "[encoded data removed]",
      "text/plain": [
       "<Figure size 800x600 with 1 Axes>"
      ]
     },
     "metadata": {},
     "output_type": "display_data"
    },
    {
     "name": "stdout",
     "output_type": "stream",
     "text": [
      "ROC AUC Score: 0.9991\n",
      "Optimal threshold: 0.0738\n",
      "At optimal threshold - TPR: 0.9875, FPR: 0.0068\n",
      "\n",
      "=== THRESHOLD ANALYSIS ===\n",
      "Threshold 0.300: Precision=1.000, Recall=0.969, F1=0.984\n",
      "Threshold 0.500: Precision=1.000, Recall=0.963, F1=0.981\n",
      "Threshold 0.700: Precision=1.000, Recall=0.956, F1=0.978\n",
      "Threshold 0.074: Precision=0.994, Recall=0.988, F1=0.991\n"
     ]
    }
   ],
   "source": [
    "from sklearn.metrics import roc_curve, auc\n",
    "import matplotlib.pyplot as plt\n",
    "\n",
    "# Calculate ROC curve\n",
    "fpr, tpr, thresholds = roc_curve(y_test, y_test_proba)\n",
    "roc_auc = auc(fpr, tpr)\n",
    "\n",
    "# Plot ROC curve\n",
    "plt.figure(figsize=(8, 6))\n",
    "plt.plot(fpr, tpr, color='darkorange', lw=2, label=f'ROC curve (AUC = {roc_auc:.2f})')\n",
    "plt.plot([0, 1], [0, 1], color='navy', lw=2, linestyle='--', label='Random classifier')\n",
    "plt.xlim([0.0, 1.0])\n",
    "plt.ylim([0.0, 1.05])\n",
    "plt.xlabel('False Positive Rate')\n",
    "plt.ylabel('True Positive Rate')\n",
    "plt.title('ROC Curve - SVM (Word2Vec)')\n",
    "plt.legend(loc=\"lower right\")\n",
    "plt.grid(True, alpha=0.3)\n",
    "plt.show()\n",
    "\n",
    "print(f\"ROC AUC Score: {roc_auc:.4f}\")\n",
    "\n",
    "# Find optimal threshold using Youden's J statistic\n",
    "optimal_idx = np.argmax(tpr - fpr)\n",
    "optimal_threshold = thresholds[optimal_idx]\n",
    "print(f\"Optimal threshold: {optimal_threshold:.4f}\")\n",
    "print(f\"At optimal threshold - TPR: {tpr[optimal_idx]:.4f}, FPR: {fpr[optimal_idx]:.4f}\")\n",
    "\n",
    "# Additional metrics at different thresholds\n",
    "print(\"\\n=== THRESHOLD ANALYSIS ===\")\n",
    "thresholds_to_check = [0.3, 0.5, 0.7, optimal_threshold]\n",
    "for threshold in thresholds_to_check:\n",
    "    y_pred_threshold = (y_test_proba >= threshold).astype(int)\n",
    "    from sklearn.metrics import precision_score, recall_score, f1_score\n",
    "    \n",
    "    precision = precision_score(y_test, y_pred_threshold)\n",
    "    recall = recall_score(y_test, y_pred_threshold)\n",
    "    f1 = f1_score(y_test, y_pred_threshold)\n",
    "    \n",
    "    print(f\"Threshold {threshold:.3f}: Precision={precision:.3f}, Recall={recall:.3f}, F1={f1:.3f}\")"
   ]
  },
  {
   "cell_type": "code",
   "execution_count": 7,
   "id": "5e3c5f17",
   "metadata": {},
   "outputs": [
    {
     "name": "stdout",
     "output_type": "stream",
     "text": [
      "=== CLASSIFICATION REPORT ===\n",
      "              precision    recall  f1-score   support\n",
      "\n",
      "      Normal       0.96      1.00      0.98       147\n",
      "      Hacked       1.00      0.96      0.98       160\n",
      "\n",
      "    accuracy                           0.98       307\n",
      "   macro avg       0.98      0.98      0.98       307\n",
      "weighted avg       0.98      0.98      0.98       307\n",
      "\n"
     ]
    },
    {
     "data": {
      "image/png": "[encoded data removed]",
      "text/plain": [
       "<Figure size 800x600 with 2 Axes>"
      ]
     },
     "metadata": {},
     "output_type": "display_data"
    }
   ],
   "source": [
    "print(\"=== CLASSIFICATION REPORT ===\")\n",
    "print(classification_report(y_test, y_test_pred, target_names=['Normal', 'Hacked']))\n",
    "\n",
    "cm = confusion_matrix(y_test, y_test_pred)\n",
    "plt.figure(figsize=(8, 6))\n",
    "sns.heatmap(cm, annot=True, fmt='d', cmap='Blues', \n",
    "            xticklabels=['Normal', 'Hacked'],\n",
    "            yticklabels=['Normal', 'Hacked'])\n",
    "plt.title('Confusion Matrix - SVM (Word2Vec)')\n",
    "plt.ylabel('True Label')\n",
    "plt.xlabel('Predicted Label')\n",
    "plt.show()"
   ]
  },
  {
   "cell_type": "markdown",
   "id": "52bdb162",
   "metadata": {},
   "source": [
    "## Testing with New Samples\n",
    "\n",
    "This section demonstrates how to use the trained SVM model with Word2Vec to classify new website content.\n",
    "\n",
    "### The `predict_website()` function:\n",
    "1. **Input**: Raw HTML content as text\n",
    "2. **Transform**: Tokenize and average Word2Vec vectors\n",
    "3. **Predict**: Use SVM to classify as Normal/Hacked\n",
    "4. **Output**: Classification result with confidence percentage\n",
    "\n",
    "We test with sample texts including both normal website content and typical hacker messages."
   ]
  },
  {
   "cell_type": "code",
   "execution_count": 8,
   "id": "268e6964",
   "metadata": {},
   "outputs": [
    {
     "name": "stdout",
     "output_type": "stream",
     "text": [
      "=== TESTING WITH NEW SAMPLES ===\n",
      "Sample 1: Normal (Confidence: 96.91%)\n",
      "Text: Welcome to our website! We offer great products and services....\n",
      "--------------------------------------------------\n",
      "Sample 2: Hacked (Confidence: 100.00%)\n",
      "Text: HACKED BY ANONYMOUS! Your site has been compromised!...\n",
      "--------------------------------------------------\n",
      "Sample 3: Normal (Confidence: 99.99%)\n",
      "Text: Contact us for more information about our company....\n",
      "--------------------------------------------------\n",
      "Sample 4: Hacked (Confidence: 100.00%)\n",
      "Text: Hacked By Shield Iran! We Are N3TC4t - Nazila Blackhat...\n",
      "--------------------------------------------------\n"
     ]
    }
   ],
   "source": [
    "def predict_website(html_content):\n",
    "    \"\"\"Predict if a website is hacked or normal using SVM + Word2Vec\"\"\"\n",
    "    tokens = simple_preprocess(html_content)\n",
    "    vec = document_vector(tokens, w2v_model).reshape(1, -1)\n",
    "    prediction = svm_model.predict(vec)[0]\n",
    "    probability = svm_model.predict_proba(vec)[0]\n",
    "    result = \"Hacked\" if prediction == 1 else \"Normal\"\n",
    "    confidence = probability[prediction] * 100\n",
    "    return result, confidence\n",
    "\n",
    "test_samples = [\n",
    "    \"Welcome to our website! We offer great products and services.\",\n",
    "    \"HACKED BY ANONYMOUS! Your site has been compromised!\",\n",
    "    \"Contact us for more information about our company.\",\n",
    "    \"Hacked By Shield Iran! We Are N3TC4t - Nazila Blackhat\"\n",
    "]\n",
    "\n",
    "print(\"=== TESTING WITH NEW SAMPLES ===\")\n",
    "for i, sample in enumerate(test_samples, 1):\n",
    "    result, confidence = predict_website(sample)\n",
    "    print(f\"Sample {i}: {result} (Confidence: {confidence:.2f}%)\")\n",
    "    print(f\"Text: {sample[:100]}...\")\n",
    "    print(\"-\" * 50)"
   ]
  },
  {
   "cell_type": "code",
   "execution_count": 9,
   "id": "f0c28907",
   "metadata": {},
   "outputs": [
    {
     "name": "stdout",
     "output_type": "stream",
     "text": [
      "Model and Word2Vec Vectorizer exported as 'svm_word2vec_model.pkl' and 'svm_word2vec_vectorizer.pkl'.\n"
     ]
    }
   ],
   "source": [
    "# Export trained model and Word2Vec for Django application\n",
    "import pickle\n",
    "\n",
    "with open('svm_word2vec_model.pkl', 'wb') as f:\n",
    "    pickle.dump(svm_model, f)\n",
    "\n",
    "with open('svm_word2vec_vectorizer.pkl', 'wb') as f:\n",
    "    pickle.dump(w2v_model, f)\n",
    "\n",
    "print(\"Model and Word2Vec Vectorizer exported as 'svm_word2vec_model.pkl' and 'svm_word2vec_vectorizer.pkl'.\")"
   ]
  }
 ],
 "metadata": {
  "kernelspec": {
   "display_name": "Python 3",
   "language": "python",
   "name": "python3"
  },
  "language_info": {
   "codemirror_mode": {
    "name": "ipython",
    "version": 3
   },
   "file_extension": ".py",
   "mimetype": "text/x-python",
   "name": "python",
   "nbconvert_exporter": "python",
   "pygments_lexer": "ipython3",
   "version": "3.12.7"
  }
 },
 "nbformat": 4,
 "nbformat_minor": 5
}
