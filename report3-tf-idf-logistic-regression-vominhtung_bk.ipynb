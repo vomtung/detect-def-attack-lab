{
 "cells": [
  {
   "cell_type": "markdown",
   "id": "e9a8f3bf",
   "metadata": {},
   "source": [
    "# Document classificcation lab"
   ]
  },
  {
   "cell_type": "markdown",
   "id": "c26de339",
   "metadata": {},
   "source": [
    "* Prepare by **vomtung@gmail.com**"
   ]
  },
  {
   "cell_type": "code",
   "execution_count": 1,
   "id": "b61dafc8",
   "metadata": {},
   "outputs": [
    {
     "name": "stdout",
     "output_type": "stream",
     "text": [
      "Requirement already satisfied: pandas in e:\\software\\python\\lib\\site-packages (2.2.3)\n",
      "Requirement already satisfied: numpy in e:\\software\\python\\lib\\site-packages (1.26.4)\n",
      "Requirement already satisfied: scikit-learn in e:\\software\\python\\lib\\site-packages (1.5.2)\n",
      "Requirement already satisfied: matplotlib in e:\\software\\python\\lib\\site-packages (3.9.2)\n",
      "Requirement already satisfied: seaborn in e:\\software\\python\\lib\\site-packages (0.13.2)\n",
      "Requirement already satisfied: python-dateutil>=2.8.2 in c:\\users\\vomtu\\appdata\\roaming\\python\\python312\\site-packages (from pandas) (2.9.0.post0)\n",
      "Requirement already satisfied: pytz>=2020.1 in e:\\software\\python\\lib\\site-packages (from pandas) (2024.2)\n",
      "Requirement already satisfied: tzdata>=2022.7 in e:\\software\\python\\lib\\site-packages (from pandas) (2024.2)\n",
      "Requirement already satisfied: scipy>=1.6.0 in e:\\software\\python\\lib\\site-packages (from scikit-learn) (1.13.1)\n",
      "Requirement already satisfied: joblib>=1.2.0 in e:\\software\\python\\lib\\site-packages (from scikit-learn) (1.4.2)\n",
      "Requirement already satisfied: threadpoolctl>=3.1.0 in e:\\software\\python\\lib\\site-packages (from scikit-learn) (3.5.0)\n",
      "Requirement already satisfied: contourpy>=1.0.1 in e:\\software\\python\\lib\\site-packages (from matplotlib) (1.3.0)\n",
      "Requirement already satisfied: cycler>=0.10 in e:\\software\\python\\lib\\site-packages (from matplotlib) (0.12.1)\n",
      "Requirement already satisfied: fonttools>=4.22.0 in e:\\software\\python\\lib\\site-packages (from matplotlib) (4.54.1)\n",
      "Requirement already satisfied: kiwisolver>=1.3.1 in e:\\software\\python\\lib\\site-packages (from matplotlib) (1.4.7)\n",
      "Requirement already satisfied: packaging>=20.0 in c:\\users\\vomtu\\appdata\\roaming\\python\\python312\\site-packages (from matplotlib) (24.1)\n",
      "Requirement already satisfied: pillow>=8 in e:\\software\\python\\lib\\site-packages (from matplotlib) (10.4.0)\n",
      "Requirement already satisfied: pyparsing>=2.3.1 in e:\\software\\python\\lib\\site-packages (from matplotlib) (3.1.4)\n",
      "Requirement already satisfied: six>=1.5 in c:\\users\\vomtu\\appdata\\roaming\\python\\python312\\site-packages (from python-dateutil>=2.8.2->pandas) (1.16.0)\n",
      "Note: you may need to restart the kernel to use updated packages.\n"
     ]
    },
    {
     "name": "stderr",
     "output_type": "stream",
     "text": [
      "\n",
      "[notice] A new release of pip is available: 24.2 -> 25.2\n",
      "[notice] To update, run: python.exe -m pip install --upgrade pip\n"
     ]
    }
   ],
   "source": [
    "%pip install pandas numpy scikit-learn matplotlib seaborn"
   ]
  },
  {
   "cell_type": "markdown",
   "id": "2953d78d",
   "metadata": {},
   "source": [
    "## Install Required Packages\n",
    "\n",
    "First, we need to install the necessary Python packages for our machine learning pipeline."
   ]
  },
  {
   "cell_type": "code",
   "execution_count": 2,
   "id": "e08e91e7",
   "metadata": {},
   "outputs": [],
   "source": [
    "import pandas as pd\n",
    "import numpy as np\n",
    "from sklearn.feature_extraction.text import TfidfVectorizer\n",
    "from sklearn.linear_model import LogisticRegression\n",
    "from sklearn.model_selection import train_test_split\n",
    "from sklearn.metrics import accuracy_score, classification_report, confusion_matrix\n",
    "import matplotlib.pyplot as plt\n",
    "import seaborn as sns"
   ]
  },
  {
   "cell_type": "markdown",
   "id": "82bbd9a4",
   "metadata": {},
   "source": [
    "## Import Required Libraries\n",
    "\n",
    "We need several libraries for this document classification task:\n",
    "- **pandas**: Data manipulation and analysis\n",
    "- **numpy**: Numerical computing\n",
    "- **sklearn**: Machine learning tools (TF-IDF, Logistic Regression, metrics)\n",
    "- **matplotlib & seaborn**: Data visualization"
   ]
  },
  {
   "cell_type": "code",
   "execution_count": 3,
   "id": "44028165",
   "metadata": {},
   "outputs": [
    {
     "name": "stdout",
     "output_type": "stream",
     "text": [
      "Training data shape: (1230, 2)\n",
      "Test data shape: (307, 2)\n",
      "\n",
      "Training data columns: ['HTML', 'Label']\n",
      "\n",
      "Label distribution in training data:\n",
      "Label\n",
      "1    645\n",
      "0    585\n",
      "Name: count, dtype: int64\n",
      "\n",
      "Sample data:\n",
      "                                                HTML  Label\n",
      "0  Vimeo Interactive Video Experience Platform   ...      0\n",
      "1  \\nHacked By Shield Iran ! \\nHacked By \\nShield...      1\n",
      "2  HACKED BY INDIAN CYBER FORCE \\nYOU GOT HACKED ...      1\n",
      "3  Space.com: NASA, Space Exploration and Astrono...      0\n",
      "4  Home \\r\\nYou may be trying to access this site...      0\n"
     ]
    }
   ],
   "source": [
    "train_df = pd.read_csv('dataset/train_data.csv')\n",
    "test_df = pd.read_csv('dataset/test_data.csv')\n",
    "\n",
    "print(f\"Training data shape: {train_df.shape}\")\n",
    "print(f\"Test data shape: {test_df.shape}\")\n",
    "print(f\"\\nTraining data columns: {train_df.columns.tolist()}\")\n",
    "print(f\"\\nLabel distribution in training data:\")\n",
    "print(train_df['Label'].value_counts())\n",
    "print(f\"\\nSample data:\")\n",
    "print(train_df.head())"
   ]
  },
  {
   "cell_type": "markdown",
   "id": "4d5c458b",
   "metadata": {},
   "source": [
    "## Load and Explore Dataset\n",
    "\n",
    "The dataset contains website HTML content with labels:\n",
    "- **Label 0**: Normal website\n",
    "- **Label 1**: Hacked/Defaced website\n",
    "\n",
    "We have separate training and test datasets to evaluate model performance properly."
   ]
  },
  {
   "cell_type": "markdown",
   "id": "ec8e45b9",
   "metadata": {},
   "source": [
    "## TF-IDF Vectorization\n",
    "\n",
    "**TF-IDF (Term Frequency-Inverse Document Frequency)** converts text into numerical features:\n",
    "\n",
    "### Parameters:\n",
    "- **max_features=10000**: Limit vocabulary to top 10,000 most important words\n",
    "- **ngram_range=(1,2)**: Use both single words (unigrams) and word pairs (bigrams)\n",
    "- **min_df=2**: Ignore words appearing in fewer than 2 documents\n",
    "- **max_df=0.95**: Ignore words appearing in more than 95% of documents\n",
    "- **stop_words='english'**: Remove common English stop words (the, and, is, etc.)\n",
    "\n",
    "This transforms HTML content into a matrix where each row represents a document and each column represents a word/phrase with its TF-IDF weight."
   ]
  },
  {
   "cell_type": "code",
   "execution_count": 4,
   "id": "b7425f31",
   "metadata": {},
   "outputs": [
    {
     "name": "stdout",
     "output_type": "stream",
     "text": [
      "Training samples: 1230\n",
      "Test samples: 307\n",
      "Applying TF-IDF transformation...\n",
      "TF-IDF matrix shape: (1230, 10000)\n",
      "Feature names (first 10): ['00' '00 00' '00 pm' '000' '000 000' '000 members' '000 new' '00am'\n",
      " '00am 00pm' '00am 30pm']\n"
     ]
    }
   ],
   "source": [
    "X_train = train_df['HTML'].fillna('')\n",
    "y_train = train_df['Label']\n",
    "\n",
    "X_test = test_df['HTML'].fillna('')\n",
    "y_test = test_df['Label']\n",
    "\n",
    "print(f\"Training samples: {len(X_train)}\")\n",
    "print(f\"Test samples: {len(X_test)}\")\n",
    "\n",
    "tfidf_vectorizer = TfidfVectorizer(\n",
    "    max_features=10000,\n",
    "    ngram_range=(1, 2),\n",
    "    min_df=2,\n",
    "    max_df=0.95,\n",
    "    stop_words='english'\n",
    ")\n",
    "\n",
    "print(\"Applying TF-IDF transformation...\")\n",
    "X_train_tfidf = tfidf_vectorizer.fit_transform(X_train)\n",
    "X_test_tfidf = tfidf_vectorizer.transform(X_test)\n",
    "\n",
    "print(f\"TF-IDF matrix shape: {X_train_tfidf.shape}\")\n",
    "print(f\"Feature names (first 10): {tfidf_vectorizer.get_feature_names_out()[:10]}\")"
   ]
  },
  {
   "cell_type": "markdown",
   "id": "b2466371",
   "metadata": {},
   "source": [
    "## Logistic Regression Model Training\n",
    "\n",
    "**Logistic Regression** is a linear classifier perfect for binary classification tasks like detecting hacked websites.\n",
    "\n",
    "### Parameters:\n",
    "- **C=1.0**: Regularization strength (inverse). Higher C = less regularization\n",
    "- **max_iter=1000**: Maximum iterations for optimization convergence\n",
    "- **random_state=42**: For reproducible results\n",
    "\n",
    "The model learns to distinguish between normal and hacked websites based on TF-IDF features extracted from HTML content."
   ]
  },
  {
   "cell_type": "code",
   "execution_count": 5,
   "id": "2a897016",
   "metadata": {},
   "outputs": [
    {
     "name": "stdout",
     "output_type": "stream",
     "text": [
      "Training Logistic Regression model...\n",
      "Training Accuracy: 0.9976\n",
      "Test Accuracy: 0.9902\n",
      "Model trained successfully!\n"
     ]
    }
   ],
   "source": [
    "print(\"Training Logistic Regression model...\")\n",
    "\n",
    "logistic_model = LogisticRegression(\n",
    "    C=1.0,\n",
    "    max_iter=1000,\n",
    "    random_state=42\n",
    ")\n",
    "\n",
    "logistic_model.fit(X_train_tfidf, y_train)\n",
    "\n",
    "y_train_pred = logistic_model.predict(X_train_tfidf)\n",
    "y_test_pred = logistic_model.predict(X_test_tfidf)\n",
    "\n",
    "train_accuracy = accuracy_score(y_train, y_train_pred)\n",
    "test_accuracy = accuracy_score(y_test, y_test_pred)\n",
    "\n",
    "print(f\"Training Accuracy: {train_accuracy:.4f}\")\n",
    "print(f\"Test Accuracy: {test_accuracy:.4f}\")\n",
    "\n",
    "y_test_proba = logistic_model.predict_proba(X_test_tfidf)[:, 1]\n",
    "print(f\"Model trained successfully!\")"
   ]
  },
  {
   "cell_type": "markdown",
   "id": "09e9c31e",
   "metadata": {},
   "source": [
    "## Model Evaluation and Analysis\n",
    "\n",
    "### Performance Metrics:\n",
    "- **Classification Report**: Precision, Recall, F1-score for each class\n",
    "- **Confusion Matrix**: Visual representation of correct vs incorrect predictions\n",
    "- **Feature Importance**: Top words/phrases that indicate hacked vs normal websites\n",
    "\n",
    "### Understanding Results:\n",
    "- **Precision**: Of all websites predicted as hacked, how many are actually hacked?\n",
    "- **Recall**: Of all actually hacked websites, how many did we detect?\n",
    "- **F1-score**: Harmonic mean of precision and recall"
   ]
  },
  {
   "cell_type": "code",
   "execution_count": 7,
   "id": "bbfdc084",
   "metadata": {},
   "outputs": [
    {
     "data": {
      "image/png": "[encoded data removed]",
      "text/plain": [
       "<Figure size 800x600 with 1 Axes>"
      ]
     },
     "metadata": {},
     "output_type": "display_data"
    },
    {
     "name": "stdout",
     "output_type": "stream",
     "text": [
      "ROC AUC Score: 1.0000\n",
      "Optimal threshold: 0.4537\n",
      "At optimal threshold - TPR: 1.0000, FPR: 0.0068\n",
      "\n",
      "=== THRESHOLD ANALYSIS ===\n",
      "Threshold 0.300: Precision=0.947, Recall=1.000, F1=0.973, FPR=0.061, ACC=0.971\n",
      "Threshold 0.500: Precision=1.000, Recall=0.981, F1=0.991, FPR=0.000, ACC=0.990\n",
      "Threshold 0.700: Precision=1.000, Recall=0.894, F1=0.944, FPR=0.000, ACC=0.945\n",
      "Threshold 0.454: Precision=0.994, Recall=1.000, F1=0.997, FPR=0.007, ACC=0.997\n"
     ]
    }
   ],
   "source": [
    "from sklearn.metrics import roc_curve, auc\n",
    "import matplotlib.pyplot as plt\n",
    "\n",
    "# Calculate ROC curve\n",
    "fpr, tpr, thresholds = roc_curve(y_test, y_test_proba)\n",
    "roc_auc = auc(fpr, tpr)\n",
    "\n",
    "# Plot ROC curve\n",
    "plt.figure(figsize=(8, 6))\n",
    "plt.plot(fpr, tpr, color='darkorange', lw=2, label=f'ROC curve (AUC = {roc_auc:.2f})')\n",
    "plt.plot([0, 1], [0, 1], color='navy', lw=2, linestyle='--', label='Random classifier')\n",
    "plt.xlim([0.0, 1.0])\n",
    "plt.ylim([0.0, 1.05])\n",
    "plt.xlabel('False Positive Rate')\n",
    "plt.ylabel('True Positive Rate')\n",
    "plt.title('ROC Curve - Logistic Regression')\n",
    "plt.legend(loc=\"lower right\")\n",
    "plt.grid(True, alpha=0.3)\n",
    "plt.show()\n",
    "\n",
    "print(f\"ROC AUC Score: {roc_auc:.4f}\")\n",
    "\n",
    "# Find optimal threshold using Youden's J statistic\n",
    "optimal_idx = np.argmax(tpr - fpr)\n",
    "optimal_threshold = thresholds[optimal_idx]\n",
    "print(f\"Optimal threshold: {optimal_threshold:.4f}\")\n",
    "print(f\"At optimal threshold - TPR: {tpr[optimal_idx]:.4f}, FPR: {fpr[optimal_idx]:.4f}\")\n",
    "\n",
    "# Additional metrics at different thresholds\n",
    "print(\"\\n=== THRESHOLD ANALYSIS ===\")\n",
    "thresholds_to_check = [0.3, 0.5, 0.7, optimal_threshold]\n",
    "from sklearn.metrics import precision_score, recall_score, f1_score, confusion_matrix, accuracy_score\n",
    "for threshold in thresholds_to_check:\n",
    "    y_pred_threshold = (y_test_proba >= threshold).astype(int)\n",
    "    precision = precision_score(y_test, y_pred_threshold)\n",
    "    recall = recall_score(y_test, y_pred_threshold)\n",
    "    f1 = f1_score(y_test, y_pred_threshold)\n",
    "    acc = accuracy_score(y_test, y_pred_threshold)\n",
    "    cm = confusion_matrix(y_test, y_pred_threshold)\n",
    "    # FPR = FP / (FP + TN)\n",
    "    FP = cm[0,1]\n",
    "    TN = cm[0,0]\n",
    "    FPR_value = FP / (FP + TN) if (FP + TN) > 0 else 0.0\n",
    "    print(f\"Threshold {threshold:.3f}: Precision={precision:.3f}, Recall={recall:.3f}, F1={f1:.3f}, FPR={FPR_value:.3f}, ACC={acc:.3f}\")"
   ]
  },
  {
   "cell_type": "code",
   "execution_count": 8,
   "id": "5e3c5f17",
   "metadata": {},
   "outputs": [
    {
     "name": "stdout",
     "output_type": "stream",
     "text": [
      "=== CLASSIFICATION REPORT ===\n",
      "              precision    recall  f1-score   support\n",
      "\n",
      "      Normal       0.98      1.00      0.99       147\n",
      "      Hacked       1.00      0.98      0.99       160\n",
      "\n",
      "    accuracy                           0.99       307\n",
      "   macro avg       0.99      0.99      0.99       307\n",
      "weighted avg       0.99      0.99      0.99       307\n",
      "\n"
     ]
    },
    {
     "data": {
      "image/png": "[encoded data removed]",
      "text/plain": [
       "<Figure size 800x600 with 2 Axes>"
      ]
     },
     "metadata": {},
     "output_type": "display_data"
    },
    {
     "name": "stdout",
     "output_type": "stream",
     "text": [
      "\n",
      "=== TOP FEATURES FOR HACKED WEBSITES ===\n",
      "hacked: 7.6705\n",
      "mr: 2.4660\n",
      "team: 2.1029\n",
      "cyber: 1.9043\n",
      "greetz: 1.4082\n",
      "touched: 1.3066\n",
      "indonesian: 1.1870\n",
      "0x1998: 1.1425\n",
      "root: 1.1072\n",
      "security: 1.0509\n",
      "\n",
      "=== TOP FEATURES FOR NORMAL WEBSITES ===\n",
      "2023: -1.6519\n",
      "new: -1.3441\n",
      "google: -1.3368\n",
      "news: -1.3184\n",
      "help: -1.2302\n",
      "privacy: -1.1692\n",
      "learn: -1.1514\n",
      "sign: -1.0813\n",
      "use: -1.0415\n",
      "home: -1.0363\n"
     ]
    }
   ],
   "source": [
    "print(\"=== CLASSIFICATION REPORT ===\")\n",
    "print(classification_report(y_test, y_test_pred, target_names=['Normal', 'Hacked']))\n",
    "\n",
    "cm = confusion_matrix(y_test, y_test_pred)\n",
    "plt.figure(figsize=(8, 6))\n",
    "sns.heatmap(cm, annot=True, fmt='d', cmap='Blues', \n",
    "            xticklabels=['Normal', 'Hacked'],\n",
    "            yticklabels=['Normal', 'Hacked'])\n",
    "plt.title('Confusion Matrix - Logistic Regression')\n",
    "plt.ylabel('True Label')\n",
    "plt.xlabel('Predicted Label')\n",
    "plt.show()\n",
    "\n",
    "feature_names = tfidf_vectorizer.get_feature_names_out()\n",
    "coefficients = logistic_model.coef_[0]\n",
    "\n",
    "top_hacked_indices = np.argsort(coefficients)[-10:]\n",
    "top_hacked_features = [(feature_names[i], coefficients[i]) for i in top_hacked_indices]\n",
    "\n",
    "top_normal_indices = np.argsort(coefficients)[:10]\n",
    "top_normal_features = [(feature_names[i], coefficients[i]) for i in top_normal_indices]\n",
    "\n",
    "print(\"\\n=== TOP FEATURES FOR HACKED WEBSITES ===\")\n",
    "for feature, coef in reversed(top_hacked_features):\n",
    "    print(f\"{feature}: {coef:.4f}\")\n",
    "\n",
    "print(\"\\n=== TOP FEATURES FOR NORMAL WEBSITES ===\")\n",
    "for feature, coef in top_normal_features:\n",
    "    print(f\"{feature}: {coef:.4f}\")"
   ]
  },
  {
   "cell_type": "markdown",
   "id": "52bdb162",
   "metadata": {},
   "source": [
    "## Testing with New Samples\n",
    "\n",
    "This section demonstrates how to use the trained model to classify new website content.\n",
    "\n",
    "### The `predict_website()` function:\n",
    "1. **Input**: Raw HTML content as text\n",
    "2. **Transform**: Apply the same TF-IDF transformation used during training\n",
    "3. **Predict**: Use logistic regression to classify as Normal/Hacked\n",
    "4. **Output**: Classification result with confidence percentage\n",
    "\n",
    "We test with sample texts including both normal website content and typical hacker messages."
   ]
  },
  {
   "cell_type": "code",
   "execution_count": 9,
   "id": "c75e2551",
   "metadata": {},
   "outputs": [
    {
     "name": "stdout",
     "output_type": "stream",
     "text": [
      "=== TESTING WITH NEW SAMPLES ===\n",
      "Sample 1: Normal (Confidence: 70.52%)\n",
      "Text: Welcome to our website! We offer great products and services....\n",
      "--------------------------------------------------\n",
      "Sample 2: Hacked (Confidence: 87.35%)\n",
      "Text: HACKED BY ANONYMOUS! Your site has been compromised!...\n",
      "--------------------------------------------------\n",
      "Sample 3: Normal (Confidence: 66.47%)\n",
      "Text: Contact us for more information about our company....\n",
      "--------------------------------------------------\n",
      "Sample 4: Hacked (Confidence: 85.03%)\n",
      "Text: Hacked By Shield Iran! We Are N3TC4t - Nazila Blackhat...\n",
      "--------------------------------------------------\n"
     ]
    }
   ],
   "source": [
    "def predict_website(html_content):\n",
    "    \"\"\"Predict if a website is hacked or normal\"\"\"\n",
    "    html_tfidf = tfidf_vectorizer.transform([html_content])\n",
    "    \n",
    "    prediction = logistic_model.predict(html_tfidf)[0]\n",
    "    probability = logistic_model.predict_proba(html_tfidf)[0]\n",
    "    \n",
    "    result = \"Hacked\" if prediction == 1 else \"Normal\"\n",
    "    confidence = probability[prediction] * 100\n",
    "    \n",
    "    return result, confidence\n",
    "\n",
    "test_samples = [\n",
    "    \"Welcome to our website! We offer great products and services.\",\n",
    "    \"HACKED BY ANONYMOUS! Your site has been compromised!\",\n",
    "    \"Contact us for more information about our company.\",\n",
    "    \"Hacked By Shield Iran! We Are N3TC4t - Nazila Blackhat\"\n",
    "]\n",
    "\n",
    "print(\"=== TESTING WITH NEW SAMPLES ===\")\n",
    "for i, sample in enumerate(test_samples, 1):\n",
    "    result, confidence = predict_website(sample)\n",
    "    print(f\"Sample {i}: {result} (Confidence: {confidence:.2f}%)\")\n",
    "    print(f\"Text: {sample[:100]}...\")\n",
    "    print(\"-\" * 50)"
   ]
  }
 ],
 "metadata": {
  "kernelspec": {
   "display_name": "Python 3",
   "language": "python",
   "name": "python3"
  },
  "language_info": {
   "codemirror_mode": {
    "name": "ipython",
    "version": 3
   },
   "file_extension": ".py",
   "mimetype": "text/x-python",
   "name": "python",
   "nbconvert_exporter": "python",
   "pygments_lexer": "ipython3",
   "version": "3.12.7"
  }
 },
 "nbformat": 4,
 "nbformat_minor": 5
}
